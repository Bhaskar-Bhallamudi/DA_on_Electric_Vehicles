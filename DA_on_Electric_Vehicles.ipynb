{
 "cells": [
  {
   "cell_type": "code",
   "execution_count": null,
   "id": "b53f0551",
   "metadata": {},
   "outputs": [],
   "source": [
    "import numpy as np\n",
    "import pandas as pd"
   ]
  },
  {
   "cell_type": "code",
   "execution_count": null,
   "id": "b9b44f1d",
   "metadata": {},
   "outputs": [],
   "source": [
    "df = pd.read_csv(r\"C:\\Users\\bhask\\Desktop\\DATA SCIENCE AND ANALYTICS\\Projects\\DA_on_EV_Innomatics_Hackathon\\dataset.csv\")"
   ]
  },
  {
   "cell_type": "code",
   "execution_count": null,
   "id": "efddebfa",
   "metadata": {},
   "outputs": [],
   "source": [
    "df.head(10)"
   ]
  },
  {
   "cell_type": "code",
   "execution_count": null,
   "id": "8c48a750",
   "metadata": {},
   "outputs": [],
   "source": [
    "df.describe(include = object)"
   ]
  },
  {
   "cell_type": "code",
   "execution_count": null,
   "id": "2f30f0f7",
   "metadata": {},
   "outputs": [],
   "source": [
    "df.describe()"
   ]
  },
  {
   "cell_type": "code",
   "execution_count": null,
   "id": "f8996f9d",
   "metadata": {},
   "outputs": [],
   "source": [
    "df.shape"
   ]
  },
  {
   "cell_type": "code",
   "execution_count": null,
   "id": "c92f84e7",
   "metadata": {},
   "outputs": [],
   "source": [
    "df.info()"
   ]
  },
  {
   "cell_type": "code",
   "execution_count": null,
   "id": "3fcaa257",
   "metadata": {},
   "outputs": [],
   "source": [
    "#null values checking\n",
    "df.isnull().sum()"
   ]
  },
  {
   "cell_type": "code",
   "execution_count": null,
   "id": "3d098e7f",
   "metadata": {},
   "outputs": [],
   "source": [
    "# checking for which model has null values so that we can know what to replace it with\n",
    "df[df[\"Model\"].isna() == True]"
   ]
  },
  {
   "cell_type": "code",
   "execution_count": null,
   "id": "bbb927c2",
   "metadata": {},
   "outputs": [],
   "source": [
    "# handling missing value for model column\n",
    "df.fillna(value={\"Model\":\"VOLVO1\"}, inplace=True)\n",
    "df[\"Model\"].isna().sum()"
   ]
  },
  {
   "cell_type": "code",
   "execution_count": null,
   "id": "12b5bc67",
   "metadata": {},
   "outputs": [],
   "source": [
    "#handling missing value for Legislative District column\n",
    "df[\"Legislative District\"].fillna(value=1, inplace=True)\n",
    "df[\"Legislative District\"].isna().sum()"
   ]
  },
  {
   "cell_type": "code",
   "execution_count": null,
   "id": "1fdad383",
   "metadata": {},
   "outputs": [],
   "source": []
  },
  {
   "cell_type": "code",
   "execution_count": null,
   "id": "da6c7887",
   "metadata": {},
   "outputs": [],
   "source": [
    "df.head()"
   ]
  },
  {
   "cell_type": "code",
   "execution_count": null,
   "id": "0ec718e0",
   "metadata": {},
   "outputs": [],
   "source": [
    "import plotly.express as px"
   ]
  },
  {
   "cell_type": "code",
   "execution_count": null,
   "id": "9c7faf86",
   "metadata": {},
   "outputs": [],
   "source": [
    "fig_histogram = px.histogram(df, x = \"Electric Vehicle Type\", title = \"Electric Vehicle Type\")"
   ]
  },
  {
   "cell_type": "code",
   "execution_count": null,
   "id": "0b32d8ff",
   "metadata": {},
   "outputs": [],
   "source": [
    "fig_histogram.show()"
   ]
  },
  {
   "cell_type": "code",
   "execution_count": null,
   "id": "cb370354",
   "metadata": {},
   "outputs": [],
   "source": [
    "df['Electric Range'].mean()\n",
    "# This means the average range of the EV's is 87 miles"
   ]
  },
  {
   "cell_type": "code",
   "execution_count": null,
   "id": "8056d0e2",
   "metadata": {},
   "outputs": [],
   "source": [
    "\n",
    "his = px.histogram(df, x = 'Electric Range')\n",
    "his.show()\n",
    "# This shows that 214-215 is most common one."
   ]
  },
  {
   "cell_type": "code",
   "execution_count": null,
   "id": "91c2f927",
   "metadata": {},
   "outputs": [],
   "source": [
    "scat = px.scatter(df, x=\"Model Year\", y=\"Electric Range\", title=\"Electric Range vs Model Year\")\n",
    "scat.show()\n",
    "# this shows the relationship between 'model year' and 'electric range'"
   ]
  },
  {
   "cell_type": "code",
   "execution_count": null,
   "id": "575c70d6",
   "metadata": {},
   "outputs": [],
   "source": [
    "boxx=  px.box(df, x=\"Electric Range\",y=\"State\", title=\" Box Plot\")\n",
    "boxx.show()\n",
    "#This shows the 'range' wrt 'state'\n"
   ]
  },
  {
   "cell_type": "code",
   "execution_count": null,
   "id": "a2947f54",
   "metadata": {},
   "outputs": [],
   "source": [
    "px.bar(df, x = 'State')"
   ]
  },
  {
   "cell_type": "markdown",
   "id": "13b053f9",
   "metadata": {},
   "source": [
    "### Task 2"
   ]
  },
  {
   "cell_type": "code",
   "execution_count": null,
   "id": "cb588f67",
   "metadata": {},
   "outputs": [],
   "source": [
    "#choropleth plot\n",
    "choropleth_plot = px.choropleth(df,\n",
    "                              locations=\"State\",\n",
    "                              locationmode=\"USA-states\",\n",
    "                              color=\"Electric Range\",\n",
    "                              title=\"Choropleth Plot: Electric Range wrt state\",\n",
    "                               )                             \n",
    "choropleth_plot.show()"
   ]
  },
  {
   "cell_type": "markdown",
   "id": "2b65e071",
   "metadata": {},
   "source": [
    "### Task 3"
   ]
  },
  {
   "cell_type": "code",
   "execution_count": null,
   "id": "60fc3766",
   "metadata": {},
   "outputs": [],
   "source": [
    "# Manupulating our new df to desired format for bar chart race"
   ]
  },
  {
   "cell_type": "code",
   "execution_count": null,
   "id": "01d8b818",
   "metadata": {},
   "outputs": [],
   "source": [
    "df[\"Year\"] = df['Model Year']"
   ]
  },
  {
   "cell_type": "code",
   "execution_count": null,
   "id": "e0c4bbdc",
   "metadata": {},
   "outputs": [],
   "source": [
    "df_racing_chart = df[['Year', 'Make', 'Model']]\n"
   ]
  },
  {
   "cell_type": "code",
   "execution_count": null,
   "id": "b7ed011d",
   "metadata": {},
   "outputs": [],
   "source": [
    "df_racing_chart = df_racing_chart.pivot_table(index='Year', columns='Make', values='Model', aggfunc='count', fill_value=0)\n"
   ]
  },
  {
   "cell_type": "code",
   "execution_count": null,
   "id": "18bdba62",
   "metadata": {},
   "outputs": [],
   "source": []
  },
  {
   "cell_type": "code",
   "execution_count": null,
   "id": "96b3fe48",
   "metadata": {},
   "outputs": [],
   "source": [
    "!pip install bar_chart_race"
   ]
  },
  {
   "cell_type": "code",
   "execution_count": null,
   "id": "c4cf00e5",
   "metadata": {},
   "outputs": [],
   "source": [
    "import bar_chart_race as bcr\n",
    "bcr.bar_chart_race(df_racing_chart,\n",
    "                   filename=\"bar_chart_race.mp4\",\n",
    "                   orientation=\"h\",\n",
    "                   sort=\"desc\",\n",
    "                   n_bars=10,\n",
    "                   period_length=2000,\n",
    "                   title='Year-wise Sales of Each manufacturing companies',\n",
    "                   )\n"
   ]
  },
  {
   "cell_type": "code",
   "execution_count": null,
   "id": "1d34c7d1",
   "metadata": {},
   "outputs": [],
   "source": []
  }
 ],
 "metadata": {
  "kernelspec": {
   "display_name": "Python 3 (ipykernel)",
   "language": "python",
   "name": "python3"
  },
  "language_info": {
   "codemirror_mode": {
    "name": "ipython",
    "version": 3
   },
   "file_extension": ".py",
   "mimetype": "text/x-python",
   "name": "python",
   "nbconvert_exporter": "python",
   "pygments_lexer": "ipython3",
   "version": "3.9.12"
  }
 },
 "nbformat": 4,
 "nbformat_minor": 5
}
